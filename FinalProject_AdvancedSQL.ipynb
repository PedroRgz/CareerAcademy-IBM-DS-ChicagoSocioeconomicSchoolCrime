{
 "cells": [
  {
   "cell_type": "markdown",
   "metadata": {},
   "source": [
    "In the original lab, this is the introduction: \n",
    "> In this project, you will work with three datasets that are available on the City of Chicago’s Data Portal:\n",
    "\n",
    "* Socioeconomic indicators in Chicago\n",
    "* Chicago public schools\n",
    "* Chicago crime data\n",
    "\n",
    "You must download each dataset, create a table for each one, and load the appropiate dataset through the Db2 console. If you have already completed the Hands on Lab: Joins, you can reuse the tables you created for that hands-on lab. However, you should not reuse similar tables with other names from other exercises or labs, as they may not create the correct results."
   ]
  },
  {
   "cell_type": "markdown",
   "metadata": {},
   "source": [
    "Here are the links to the datasets:\n",
    "* [Socioeconomic Indicators in Chicago](https://cf-courses-data.s3.us.cloud-object-storage.appdomain.cloud/IBMDeveloperSkillsNetwork-DB0201EN-SkillsNetwork/labs/BonusModule_Coursera_v5/datasets/ChicagoCensusData.csv)\n",
    "* [Chicago Public Schools](https://cf-courses-data.s3.us.cloud-object-storage.appdomain.cloud/IBMDeveloperSkillsNetwork-DB0201EN-SkillsNetwork/labs/BonusModule_Coursera_v5/datasets/ChicagoPublicSchools.csv)\n",
    "* [Chicago Crime Data](https://cf-courses-data.s3.us.cloud-object-storage.appdomain.cloud/IBMDeveloperSkillsNetwork-DB0201EN-SkillsNetwork/labs/BonusModule_Coursera_v5/datasets/ChicagoCrimeData.csv)"
   ]
  },
  {
   "cell_type": "markdown",
   "metadata": {},
   "source": [
    "The data is all ready in the FinalDB.db file, so you don't need to download it. We need to start a connection to the database and load the SQL extension into the database."
   ]
  },
  {
   "cell_type": "code",
   "execution_count": 1,
   "metadata": {},
   "outputs": [],
   "source": [
    "%load_ext sql"
   ]
  },
  {
   "cell_type": "code",
   "execution_count": 2,
   "metadata": {},
   "outputs": [],
   "source": [
    "#Create the conecction to the database\n",
    "%sql sqlite:///FinalDB.db"
   ]
  },
  {
   "cell_type": "code",
   "execution_count": 3,
   "metadata": {},
   "outputs": [
    {
     "name": "stdout",
     "output_type": "stream",
     "text": [
      " * sqlite:///FinalDB.db\n",
      "Done.\n"
     ]
    },
    {
     "data": {
      "text/html": [
       "<table>\n",
       "    <thead>\n",
       "        <tr>\n",
       "            <th>type</th>\n",
       "            <th>name</th>\n",
       "            <th>tbl_name</th>\n",
       "            <th>rootpage</th>\n",
       "            <th>sql</th>\n",
       "        </tr>\n",
       "    </thead>\n",
       "    <tbody>\n",
       "        <tr>\n",
       "            <td>table</td>\n",
       "            <td>CENSUS_DATA</td>\n",
       "            <td>CENSUS_DATA</td>\n",
       "            <td>2</td>\n",
       "            <td>CREATE TABLE &quot;CENSUS_DATA&quot; (<br>&quot;COMMUNITY_AREA_NUMBER&quot; REAL,<br>  &quot;COMMUNITY_AREA_NAME&quot; TEXT,<br>  &quot;PERCENT_OF_HOUSING_CROWDED&quot; REAL,<br>  &quot;PERCENT_HOUSEHOLDS_BELOW_POVERTY&quot; REAL,<br>  &quot;PERCENT_AGED_16__UNEMPLOYED&quot; REAL,<br>  &quot;PERCENT_AGED_25__WITHOUT_HIGH_SCHOOL_DIPLOMA&quot; REAL,<br>  &quot;PERCENT_AGED_UNDER_18_OR_OVER_64&quot; REAL,<br>  &quot;PER_CAPITA_INCOME&quot; INTEGER,<br>  &quot;HARDSHIP_INDEX&quot; REAL<br>)</td>\n",
       "        </tr>\n",
       "        <tr>\n",
       "            <td>table</td>\n",
       "            <td>CHICAGO_PUBLIC_SCHOOLS</td>\n",
       "            <td>CHICAGO_PUBLIC_SCHOOLS</td>\n",
       "            <td>5</td>\n",
       "            <td>CREATE TABLE &quot;CHICAGO_PUBLIC_SCHOOLS&quot; (<br>&quot;School_ID&quot; INTEGER,<br>  &quot;NAME_OF_SCHOOL&quot; TEXT,<br>  &quot;Elementary, Middle, or High School&quot; TEXT,<br>  &quot;Street_Address&quot; TEXT,<br>  &quot;City&quot; TEXT,<br>  &quot;State&quot; TEXT,<br>  &quot;ZIP_Code&quot; INTEGER,<br>  &quot;Phone_Number&quot; TEXT,<br>  &quot;Link&quot; TEXT,<br>  &quot;Network_Manager&quot; TEXT,<br>  &quot;Collaborative_Name&quot; TEXT,<br>  &quot;Adequate_Yearly_Progress_Made_&quot; TEXT,<br>  &quot;Track_Schedule&quot; TEXT,<br>  &quot;CPS_Performance_Policy_Status&quot; TEXT,<br>  &quot;CPS_Performance_Policy_Level&quot; TEXT,<br>  &quot;HEALTHY_SCHOOL_CERTIFIED&quot; TEXT,<br>  &quot;Safety_Icon&quot; TEXT,<br>  &quot;SAFETY_SCORE&quot; REAL,<br>  &quot;Family_Involvement_Icon&quot; TEXT,<br>  &quot;Family_Involvement_Score&quot; TEXT,<br>  &quot;Environment_Icon&quot; TEXT,<br>  &quot;Environment_Score&quot; REAL,<br>  &quot;Instruction_Icon&quot; TEXT,<br>  &quot;Instruction_Score&quot; REAL,<br>  &quot;Leaders_Icon&quot; TEXT,<br>  &quot;Leaders_Score&quot; TEXT,<br>  &quot;Teachers_Icon&quot; TEXT,<br>  &quot;Teachers_Score&quot; TEXT,<br>  &quot;Parent_Engagement_Icon&quot; TEXT,<br>  &quot;Parent_Engagement_Score&quot; TEXT,<br>  &quot;Parent_Environment_Icon&quot; TEXT,<br>  &quot;Parent_Environment_Score&quot; TEXT,<br>  &quot;AVERAGE_STUDENT_ATTENDANCE&quot; TEXT,<br>  &quot;Rate_of_Misconducts__per_100_students_&quot; REAL,<br>  &quot;Average_Teacher_Attendance&quot; TEXT,<br>  &quot;Individualized_Education_Program_Compliance_Rate&quot; TEXT,<br>  &quot;Pk_2_Literacy__&quot; TEXT,<br>  &quot;Pk_2_Math__&quot; TEXT,<br>  &quot;Gr3_5_Grade_Level_Math__&quot; TEXT,<br>  &quot;Gr3_5_Grade_Level_Read__&quot; TEXT,<br>  &quot;Gr3_5_Keep_Pace_Read__&quot; TEXT,<br>  &quot;Gr3_5_Keep_Pace_Math__&quot; TEXT,<br>  &quot;Gr6_8_Grade_Level_Math__&quot; TEXT,<br>  &quot;Gr6_8_Grade_Level_Read__&quot; TEXT,<br>  &quot;Gr6_8_Keep_Pace_Math_&quot; TEXT,<br>  &quot;Gr6_8_Keep_Pace_Read__&quot; TEXT,<br>  &quot;Gr_8_Explore_Math__&quot; TEXT,<br>  &quot;Gr_8_Explore_Read__&quot; TEXT,<br>  &quot;ISAT_Exceeding_Math__&quot; REAL,<br>  &quot;ISAT_Exceeding_Reading__&quot; REAL,<br>  &quot;ISAT_Value_Add_Math&quot; REAL,<br>  &quot;ISAT_Value_Add_Read&quot; REAL,<br>  &quot;ISAT_Value_Add_Color_Math&quot; TEXT,<br>  &quot;ISAT_Value_Add_Color_Read&quot; TEXT,<br>  &quot;Students_Taking__Algebra__&quot; TEXT,<br>  &quot;Students_Passing__Algebra__&quot; TEXT,<br>  &quot;9th Grade EXPLORE (2009)&quot; TEXT,<br>  &quot;9th Grade EXPLORE (2010)&quot; TEXT,<br>  &quot;10th Grade PLAN (2009)&quot; TEXT,<br>  &quot;10th Grade PLAN (2010)&quot; TEXT,<br>  &quot;Net_Change_EXPLORE_and_PLAN&quot; TEXT,<br>  &quot;11th Grade Average ACT (2011)&quot; TEXT,<br>  &quot;Net_Change_PLAN_and_ACT&quot; TEXT,<br>  &quot;College_Eligibility__&quot; TEXT,<br>  &quot;Graduation_Rate__&quot; TEXT,<br>  &quot;College_Enrollment_Rate__&quot; TEXT,<br>  &quot;COLLEGE_ENROLLMENT&quot; INTEGER,<br>  &quot;General_Services_Route&quot; INTEGER,<br>  &quot;Freshman_on_Track_Rate__&quot; TEXT,<br>  &quot;X_COORDINATE&quot; REAL,<br>  &quot;Y_COORDINATE&quot; REAL,<br>  &quot;Latitude&quot; REAL,<br>  &quot;Longitude&quot; REAL,<br>  &quot;COMMUNITY_AREA_NUMBER&quot; INTEGER,<br>  &quot;COMMUNITY_AREA_NAME&quot; TEXT,<br>  &quot;Ward&quot; INTEGER,<br>  &quot;Police_District&quot; INTEGER,<br>  &quot;Location&quot; TEXT<br>)</td>\n",
       "        </tr>\n",
       "        <tr>\n",
       "            <td>table</td>\n",
       "            <td>CHICAGO_CRIME_DATA</td>\n",
       "            <td>CHICAGO_CRIME_DATA</td>\n",
       "            <td>101</td>\n",
       "            <td>CREATE TABLE &quot;CHICAGO_CRIME_DATA&quot; (<br>&quot;ID&quot; INTEGER,<br>  &quot;CASE_NUMBER&quot; TEXT,<br>  &quot;DATE&quot; TEXT,<br>  &quot;BLOCK&quot; TEXT,<br>  &quot;IUCR&quot; TEXT,<br>  &quot;PRIMARY_TYPE&quot; TEXT,<br>  &quot;DESCRIPTION&quot; TEXT,<br>  &quot;LOCATION_DESCRIPTION&quot; TEXT,<br>  &quot;ARREST&quot; INTEGER,<br>  &quot;DOMESTIC&quot; INTEGER,<br>  &quot;BEAT&quot; INTEGER,<br>  &quot;DISTRICT&quot; INTEGER,<br>  &quot;WARD&quot; REAL,<br>  &quot;COMMUNITY_AREA_NUMBER&quot; REAL,<br>  &quot;FBICODE&quot; TEXT,<br>  &quot;X_COORDINATE&quot; REAL,<br>  &quot;Y_COORDINATE&quot; REAL,<br>  &quot;YEAR&quot; INTEGER,<br>  &quot;LATITUDE&quot; REAL,<br>  &quot;LONGITUDE&quot; REAL,<br>  &quot;LOCATION&quot; TEXT<br>)</td>\n",
       "        </tr>\n",
       "    </tbody>\n",
       "</table>"
      ],
      "text/plain": [
       "[('table', 'CENSUS_DATA', 'CENSUS_DATA', 2, 'CREATE TABLE \"CENSUS_DATA\" (\\n\"COMMUNITY_AREA_NUMBER\" REAL,\\n  \"COMMUNITY_AREA_NAME\" TEXT,\\n  \"PERCENT_OF_HOUSING_CROWDED\" REAL,\\n  \"PERCENT_HOUSEHOL ... (73 characters truncated) ... T_AGED_25__WITHOUT_HIGH_SCHOOL_DIPLOMA\" REAL,\\n  \"PERCENT_AGED_UNDER_18_OR_OVER_64\" REAL,\\n  \"PER_CAPITA_INCOME\" INTEGER,\\n  \"HARDSHIP_INDEX\" REAL\\n)'),\n",
       " ('table', 'CHICAGO_PUBLIC_SCHOOLS', 'CHICAGO_PUBLIC_SCHOOLS', 5, 'CREATE TABLE \"CHICAGO_PUBLIC_SCHOOLS\" (\\n\"School_ID\" INTEGER,\\n  \"NAME_OF_SCHOOL\" TEXT,\\n  \"Elementary, Middle, or High School\" TEXT,\\n  \"Street_Addr ... (2217 characters truncated) ... tude\" REAL,\\n  \"COMMUNITY_AREA_NUMBER\" INTEGER,\\n  \"COMMUNITY_AREA_NAME\" TEXT,\\n  \"Ward\" INTEGER,\\n  \"Police_District\" INTEGER,\\n  \"Location\" TEXT\\n)'),\n",
       " ('table', 'CHICAGO_CRIME_DATA', 'CHICAGO_CRIME_DATA', 101, 'CREATE TABLE \"CHICAGO_CRIME_DATA\" (\\n\"ID\" INTEGER,\\n  \"CASE_NUMBER\" TEXT,\\n  \"DATE\" TEXT,\\n  \"BLOCK\" TEXT,\\n  \"IUCR\" TEXT,\\n  \"PRIMARY_TYPE\" TEXT,\\n  ... (187 characters truncated) ... \\n  \"FBICODE\" TEXT,\\n  \"X_COORDINATE\" REAL,\\n  \"Y_COORDINATE\" REAL,\\n  \"YEAR\" INTEGER,\\n  \"LATITUDE\" REAL,\\n  \"LONGITUDE\" REAL,\\n  \"LOCATION\" TEXT\\n)')]"
      ]
     },
     "execution_count": 3,
     "metadata": {},
     "output_type": "execute_result"
    }
   ],
   "source": [
    "%%sql\n",
    "SELECT * FROM sqlite_master WHERE type='table';"
   ]
  },
  {
   "cell_type": "code",
   "execution_count": null,
   "metadata": {},
   "outputs": [],
   "source": []
  }
 ],
 "metadata": {
  "kernelspec": {
   "display_name": "base",
   "language": "python",
   "name": "python3"
  },
  "language_info": {
   "codemirror_mode": {
    "name": "ipython",
    "version": 3
   },
   "file_extension": ".py",
   "mimetype": "text/x-python",
   "name": "python",
   "nbconvert_exporter": "python",
   "pygments_lexer": "ipython3",
   "version": "3.11.5"
  }
 },
 "nbformat": 4,
 "nbformat_minor": 2
}
