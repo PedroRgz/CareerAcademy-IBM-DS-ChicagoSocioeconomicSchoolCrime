{
 "cells": [
  {
   "cell_type": "markdown",
   "metadata": {},
   "source": [
    "In the original lab, this is the introduction: \n",
    "> In this project, you will work with three datasets that are available on the City of Chicago’s Data Portal:\n",
    "\n",
    "* Socioeconomic indicators in Chicago\n",
    "* Chicago public schools\n",
    "* Chicago crime data\n",
    "\n",
    "You must download each dataset, create a table for each one, and load the appropiate dataset through the Db2 console. If you have already completed the Hands on Lab: Joins, you can reuse the tables you created for that hands-on lab. However, you should not reuse similar tables with other names from other exercises or labs, as they may not create the correct results."
   ]
  },
  {
   "cell_type": "markdown",
   "metadata": {},
   "source": [
    "Here are the links to the datasets:\n",
    "* [Socioeconomic Indicators in Chicago](https://cf-courses-data.s3.us.cloud-object-storage.appdomain.cloud/IBMDeveloperSkillsNetwork-DB0201EN-SkillsNetwork/labs/BonusModule_Coursera_v5/datasets/ChicagoCensusData.csv)\n",
    "* [Chicago Public Schools](https://cf-courses-data.s3.us.cloud-object-storage.appdomain.cloud/IBMDeveloperSkillsNetwork-DB0201EN-SkillsNetwork/labs/BonusModule_Coursera_v5/datasets/ChicagoPublicSchools.csv)\n",
    "* [Chicago Crime Data](https://cf-courses-data.s3.us.cloud-object-storage.appdomain.cloud/IBMDeveloperSkillsNetwork-DB0201EN-SkillsNetwork/labs/BonusModule_Coursera_v5/datasets/ChicagoCrimeData.csv)"
   ]
  },
  {
   "cell_type": "markdown",
   "metadata": {},
   "source": [
    "The data is all ready in the FinalDB.db file, so you don't need to download it. We need to start a connection to the database and load the SQL extension into the database."
   ]
  },
  {
   "cell_type": "code",
   "execution_count": 1,
   "metadata": {},
   "outputs": [],
   "source": [
    "%load_ext sql"
   ]
  },
  {
   "cell_type": "code",
   "execution_count": 2,
   "metadata": {},
   "outputs": [],
   "source": [
    "#Create the conecction to the database\n",
    "%sql sqlite:///FinalDB.db"
   ]
  },
  {
   "cell_type": "code",
   "execution_count": 3,
   "metadata": {},
   "outputs": [
    {
     "name": "stdout",
     "output_type": "stream",
     "text": [
      " * sqlite:///FinalDB.db\n",
      "Done.\n"
     ]
    },
    {
     "data": {
      "text/html": [
       "<table>\n",
       "    <thead>\n",
       "        <tr>\n",
       "            <th>type</th>\n",
       "            <th>name</th>\n",
       "            <th>tbl_name</th>\n",
       "            <th>rootpage</th>\n",
       "            <th>sql</th>\n",
       "        </tr>\n",
       "    </thead>\n",
       "    <tbody>\n",
       "        <tr>\n",
       "            <td>table</td>\n",
       "            <td>CENSUS_DATA</td>\n",
       "            <td>CENSUS_DATA</td>\n",
       "            <td>2</td>\n",
       "            <td>CREATE TABLE &quot;CENSUS_DATA&quot; (<br>&quot;COMMUNITY_AREA_NUMBER&quot; REAL,<br>  &quot;COMMUNITY_AREA_NAME&quot; TEXT,<br>  &quot;PERCENT_OF_HOUSING_CROWDED&quot; REAL,<br>  &quot;PERCENT_HOUSEHOLDS_BELOW_POVERTY&quot; REAL,<br>  &quot;PERCENT_AGED_16__UNEMPLOYED&quot; REAL,<br>  &quot;PERCENT_AGED_25__WITHOUT_HIGH_SCHOOL_DIPLOMA&quot; REAL,<br>  &quot;PERCENT_AGED_UNDER_18_OR_OVER_64&quot; REAL,<br>  &quot;PER_CAPITA_INCOME&quot; INTEGER,<br>  &quot;HARDSHIP_INDEX&quot; REAL<br>)</td>\n",
       "        </tr>\n",
       "        <tr>\n",
       "            <td>table</td>\n",
       "            <td>CHICAGO_PUBLIC_SCHOOLS</td>\n",
       "            <td>CHICAGO_PUBLIC_SCHOOLS</td>\n",
       "            <td>5</td>\n",
       "            <td>CREATE TABLE &quot;CHICAGO_PUBLIC_SCHOOLS&quot; (<br>&quot;School_ID&quot; INTEGER,<br>  &quot;NAME_OF_SCHOOL&quot; TEXT,<br>  &quot;Elementary, Middle, or High School&quot; TEXT,<br>  &quot;Street_Address&quot; TEXT,<br>  &quot;City&quot; TEXT,<br>  &quot;State&quot; TEXT,<br>  &quot;ZIP_Code&quot; INTEGER,<br>  &quot;Phone_Number&quot; TEXT,<br>  &quot;Link&quot; TEXT,<br>  &quot;Network_Manager&quot; TEXT,<br>  &quot;Collaborative_Name&quot; TEXT,<br>  &quot;Adequate_Yearly_Progress_Made_&quot; TEXT,<br>  &quot;Track_Schedule&quot; TEXT,<br>  &quot;CPS_Performance_Policy_Status&quot; TEXT,<br>  &quot;CPS_Performance_Policy_Level&quot; TEXT,<br>  &quot;HEALTHY_SCHOOL_CERTIFIED&quot; TEXT,<br>  &quot;Safety_Icon&quot; TEXT,<br>  &quot;SAFETY_SCORE&quot; REAL,<br>  &quot;Family_Involvement_Icon&quot; TEXT,<br>  &quot;Family_Involvement_Score&quot; TEXT,<br>  &quot;Environment_Icon&quot; TEXT,<br>  &quot;Environment_Score&quot; REAL,<br>  &quot;Instruction_Icon&quot; TEXT,<br>  &quot;Instruction_Score&quot; REAL,<br>  &quot;Leaders_Icon&quot; TEXT,<br>  &quot;Leaders_Score&quot; TEXT,<br>  &quot;Teachers_Icon&quot; TEXT,<br>  &quot;Teachers_Score&quot; TEXT,<br>  &quot;Parent_Engagement_Icon&quot; TEXT,<br>  &quot;Parent_Engagement_Score&quot; TEXT,<br>  &quot;Parent_Environment_Icon&quot; TEXT,<br>  &quot;Parent_Environment_Score&quot; TEXT,<br>  &quot;AVERAGE_STUDENT_ATTENDANCE&quot; TEXT,<br>  &quot;Rate_of_Misconducts__per_100_students_&quot; REAL,<br>  &quot;Average_Teacher_Attendance&quot; TEXT,<br>  &quot;Individualized_Education_Program_Compliance_Rate&quot; TEXT,<br>  &quot;Pk_2_Literacy__&quot; TEXT,<br>  &quot;Pk_2_Math__&quot; TEXT,<br>  &quot;Gr3_5_Grade_Level_Math__&quot; TEXT,<br>  &quot;Gr3_5_Grade_Level_Read__&quot; TEXT,<br>  &quot;Gr3_5_Keep_Pace_Read__&quot; TEXT,<br>  &quot;Gr3_5_Keep_Pace_Math__&quot; TEXT,<br>  &quot;Gr6_8_Grade_Level_Math__&quot; TEXT,<br>  &quot;Gr6_8_Grade_Level_Read__&quot; TEXT,<br>  &quot;Gr6_8_Keep_Pace_Math_&quot; TEXT,<br>  &quot;Gr6_8_Keep_Pace_Read__&quot; TEXT,<br>  &quot;Gr_8_Explore_Math__&quot; TEXT,<br>  &quot;Gr_8_Explore_Read__&quot; TEXT,<br>  &quot;ISAT_Exceeding_Math__&quot; REAL,<br>  &quot;ISAT_Exceeding_Reading__&quot; REAL,<br>  &quot;ISAT_Value_Add_Math&quot; REAL,<br>  &quot;ISAT_Value_Add_Read&quot; REAL,<br>  &quot;ISAT_Value_Add_Color_Math&quot; TEXT,<br>  &quot;ISAT_Value_Add_Color_Read&quot; TEXT,<br>  &quot;Students_Taking__Algebra__&quot; TEXT,<br>  &quot;Students_Passing__Algebra__&quot; TEXT,<br>  &quot;9th Grade EXPLORE (2009)&quot; TEXT,<br>  &quot;9th Grade EXPLORE (2010)&quot; TEXT,<br>  &quot;10th Grade PLAN (2009)&quot; TEXT,<br>  &quot;10th Grade PLAN (2010)&quot; TEXT,<br>  &quot;Net_Change_EXPLORE_and_PLAN&quot; TEXT,<br>  &quot;11th Grade Average ACT (2011)&quot; TEXT,<br>  &quot;Net_Change_PLAN_and_ACT&quot; TEXT,<br>  &quot;College_Eligibility__&quot; TEXT,<br>  &quot;Graduation_Rate__&quot; TEXT,<br>  &quot;College_Enrollment_Rate__&quot; TEXT,<br>  &quot;COLLEGE_ENROLLMENT&quot; INTEGER,<br>  &quot;General_Services_Route&quot; INTEGER,<br>  &quot;Freshman_on_Track_Rate__&quot; TEXT,<br>  &quot;X_COORDINATE&quot; REAL,<br>  &quot;Y_COORDINATE&quot; REAL,<br>  &quot;Latitude&quot; REAL,<br>  &quot;Longitude&quot; REAL,<br>  &quot;COMMUNITY_AREA_NUMBER&quot; INTEGER,<br>  &quot;COMMUNITY_AREA_NAME&quot; TEXT,<br>  &quot;Ward&quot; INTEGER,<br>  &quot;Police_District&quot; INTEGER,<br>  &quot;Location&quot; TEXT<br>)</td>\n",
       "        </tr>\n",
       "        <tr>\n",
       "            <td>table</td>\n",
       "            <td>CHICAGO_CRIME_DATA</td>\n",
       "            <td>CHICAGO_CRIME_DATA</td>\n",
       "            <td>101</td>\n",
       "            <td>CREATE TABLE &quot;CHICAGO_CRIME_DATA&quot; (<br>&quot;ID&quot; INTEGER,<br>  &quot;CASE_NUMBER&quot; TEXT,<br>  &quot;DATE&quot; TEXT,<br>  &quot;BLOCK&quot; TEXT,<br>  &quot;IUCR&quot; TEXT,<br>  &quot;PRIMARY_TYPE&quot; TEXT,<br>  &quot;DESCRIPTION&quot; TEXT,<br>  &quot;LOCATION_DESCRIPTION&quot; TEXT,<br>  &quot;ARREST&quot; INTEGER,<br>  &quot;DOMESTIC&quot; INTEGER,<br>  &quot;BEAT&quot; INTEGER,<br>  &quot;DISTRICT&quot; INTEGER,<br>  &quot;WARD&quot; REAL,<br>  &quot;COMMUNITY_AREA_NUMBER&quot; REAL,<br>  &quot;FBICODE&quot; TEXT,<br>  &quot;X_COORDINATE&quot; REAL,<br>  &quot;Y_COORDINATE&quot; REAL,<br>  &quot;YEAR&quot; INTEGER,<br>  &quot;LATITUDE&quot; REAL,<br>  &quot;LONGITUDE&quot; REAL,<br>  &quot;LOCATION&quot; TEXT<br>)</td>\n",
       "        </tr>\n",
       "    </tbody>\n",
       "</table>"
      ],
      "text/plain": [
       "[('table', 'CENSUS_DATA', 'CENSUS_DATA', 2, 'CREATE TABLE \"CENSUS_DATA\" (\\n\"COMMUNITY_AREA_NUMBER\" REAL,\\n  \"COMMUNITY_AREA_NAME\" TEXT,\\n  \"PERCENT_OF_HOUSING_CROWDED\" REAL,\\n  \"PERCENT_HOUSEHOL ... (73 characters truncated) ... T_AGED_25__WITHOUT_HIGH_SCHOOL_DIPLOMA\" REAL,\\n  \"PERCENT_AGED_UNDER_18_OR_OVER_64\" REAL,\\n  \"PER_CAPITA_INCOME\" INTEGER,\\n  \"HARDSHIP_INDEX\" REAL\\n)'),\n",
       " ('table', 'CHICAGO_PUBLIC_SCHOOLS', 'CHICAGO_PUBLIC_SCHOOLS', 5, 'CREATE TABLE \"CHICAGO_PUBLIC_SCHOOLS\" (\\n\"School_ID\" INTEGER,\\n  \"NAME_OF_SCHOOL\" TEXT,\\n  \"Elementary, Middle, or High School\" TEXT,\\n  \"Street_Addr ... (2217 characters truncated) ... tude\" REAL,\\n  \"COMMUNITY_AREA_NUMBER\" INTEGER,\\n  \"COMMUNITY_AREA_NAME\" TEXT,\\n  \"Ward\" INTEGER,\\n  \"Police_District\" INTEGER,\\n  \"Location\" TEXT\\n)'),\n",
       " ('table', 'CHICAGO_CRIME_DATA', 'CHICAGO_CRIME_DATA', 101, 'CREATE TABLE \"CHICAGO_CRIME_DATA\" (\\n\"ID\" INTEGER,\\n  \"CASE_NUMBER\" TEXT,\\n  \"DATE\" TEXT,\\n  \"BLOCK\" TEXT,\\n  \"IUCR\" TEXT,\\n  \"PRIMARY_TYPE\" TEXT,\\n  ... (187 characters truncated) ... \\n  \"FBICODE\" TEXT,\\n  \"X_COORDINATE\" REAL,\\n  \"Y_COORDINATE\" REAL,\\n  \"YEAR\" INTEGER,\\n  \"LATITUDE\" REAL,\\n  \"LONGITUDE\" REAL,\\n  \"LOCATION\" TEXT\\n)')]"
      ]
     },
     "execution_count": 3,
     "metadata": {},
     "output_type": "execute_result"
    }
   ],
   "source": [
    "%%sql\n",
    "SELECT * FROM sqlite_master WHERE type='table';"
   ]
  },
  {
   "cell_type": "markdown",
   "metadata": {},
   "source": [
    "# Exercise 1: Using Joins"
   ]
  },
  {
   "cell_type": "markdown",
   "metadata": {},
   "source": [
    "## Question 1\n",
    "> Write and execute a SQL query to list the school names, community names and average attendance for communities with a hardship index of 98.\n",
    "\n",
    "<details>\n",
    "<summary>Hint 1</summary>\n",
    "Use tables CHICAGO_PUBLIC_SCHOOLS and CENSUS_DATA\n",
    "</details>\n",
    "\n",
    "<details>\n",
    "<summary>Hint 2</summary>\n",
    "\n",
    "</details>"
   ]
  },
  {
   "cell_type": "code",
   "execution_count": 4,
   "metadata": {},
   "outputs": [
    {
     "name": "stdout",
     "output_type": "stream",
     "text": [
      " * sqlite:///FinalDB.db\n",
      "Done.\n"
     ]
    },
    {
     "data": {
      "text/html": [
       "<table>\n",
       "    <thead>\n",
       "        <tr>\n",
       "            <th>HARDSHIP_INDEX</th>\n",
       "            <th>COMMUNITY_AREA_NAME</th>\n",
       "            <th>NAME_OF_SCHOOL</th>\n",
       "            <th>AVERAGE_STUDENT_ATTENDANCE</th>\n",
       "        </tr>\n",
       "    </thead>\n",
       "    <tbody>\n",
       "        <tr>\n",
       "            <td>98.0</td>\n",
       "            <td>Riverdale</td>\n",
       "            <td>George Washington Carver Military Academy High School</td>\n",
       "            <td>91.60%</td>\n",
       "        </tr>\n",
       "        <tr>\n",
       "            <td>98.0</td>\n",
       "            <td>Riverdale</td>\n",
       "            <td>George Washington Carver Primary School</td>\n",
       "            <td>90.90%</td>\n",
       "        </tr>\n",
       "        <tr>\n",
       "            <td>98.0</td>\n",
       "            <td>Riverdale</td>\n",
       "            <td>Ira F Aldridge Elementary School</td>\n",
       "            <td>92.90%</td>\n",
       "        </tr>\n",
       "        <tr>\n",
       "            <td>98.0</td>\n",
       "            <td>Riverdale</td>\n",
       "            <td>William E B Dubois Elementary School</td>\n",
       "            <td>93.30%</td>\n",
       "        </tr>\n",
       "    </tbody>\n",
       "</table>"
      ],
      "text/plain": [
       "[(98.0, 'Riverdale', 'George Washington Carver Military Academy High School', '91.60%'),\n",
       " (98.0, 'Riverdale', 'George Washington Carver Primary School', '90.90%'),\n",
       " (98.0, 'Riverdale', 'Ira F Aldridge Elementary School', '92.90%'),\n",
       " (98.0, 'Riverdale', 'William E B Dubois Elementary School', '93.30%')]"
      ]
     },
     "execution_count": 4,
     "metadata": {},
     "output_type": "execute_result"
    }
   ],
   "source": [
    "%%sql\n",
    "--Select the school names, community names and average attendance for schools with a hardship index of 98\n",
    "SELECT \n",
    "    CENSUS_DATA.HARDSHIP_INDEX, \n",
    "    CENSUS_DATA.COMMUNITY_AREA_NAME, \n",
    "    CHICAGO_PUBLIC_SCHOOLS.NAME_OF_SCHOOL,  \n",
    "    CHICAGO_PUBLIC_SCHOOLS.AVERAGE_STUDENT_ATTENDANCE \n",
    "FROM \n",
    "    CENSUS_DATA \n",
    "INNER JOIN \n",
    "    CHICAGO_PUBLIC_SCHOOLS \n",
    "    ON \n",
    "    CENSUS_DATA.COMMUNITY_AREA_NUMBER = CHICAGO_PUBLIC_SCHOOLS.COMMUNITY_AREA_NUMBER\n",
    "WHERE\n",
    "    CENSUS_DATA.HARDSHIP_INDEX = 98;\n"
   ]
  },
  {
   "cell_type": "markdown",
   "metadata": {},
   "source": [
    "## Question 2\n",
    "\n",
    ">Write and execute a SQL query to list all crimes that took place at a school. Include case number, crime type and community name."
   ]
  },
  {
   "cell_type": "code",
   "execution_count": 5,
   "metadata": {},
   "outputs": [
    {
     "name": "stdout",
     "output_type": "stream",
     "text": [
      " * sqlite:///FinalDB.db\n",
      "Done.\n"
     ]
    },
    {
     "data": {
      "text/html": [
       "<table>\n",
       "    <thead>\n",
       "        <tr>\n",
       "            <th>CASE_NUMBER</th>\n",
       "            <th>PRIMARY_TYPE</th>\n",
       "            <th>LOCATION_DESCRIPTION</th>\n",
       "            <th>COMMUNITY_AREA_NUMBER</th>\n",
       "            <th>COMMUNITY_AREA_NUMBER_1</th>\n",
       "            <th>COMMUNITY_AREA_NAME</th>\n",
       "        </tr>\n",
       "    </thead>\n",
       "    <tbody>\n",
       "        <tr>\n",
       "            <td>HL353697</td>\n",
       "            <td>BATTERY</td>\n",
       "            <td>SCHOOL, PUBLIC, GROUNDS</td>\n",
       "            <td>43.0</td>\n",
       "            <td>43.0</td>\n",
       "            <td>South Shore</td>\n",
       "        </tr>\n",
       "        <tr>\n",
       "            <td>HL725506</td>\n",
       "            <td>BATTERY</td>\n",
       "            <td>SCHOOL, PUBLIC, BUILDING</td>\n",
       "            <td>4.0</td>\n",
       "            <td>4.0</td>\n",
       "            <td>Lincoln Square</td>\n",
       "        </tr>\n",
       "        <tr>\n",
       "            <td>HP716225</td>\n",
       "            <td>BATTERY</td>\n",
       "            <td>SCHOOL, PUBLIC, BUILDING</td>\n",
       "            <td>35.0</td>\n",
       "            <td>35.0</td>\n",
       "            <td>Douglas</td>\n",
       "        </tr>\n",
       "        <tr>\n",
       "            <td>HH639427</td>\n",
       "            <td>BATTERY</td>\n",
       "            <td>SCHOOL, PUBLIC, BUILDING</td>\n",
       "            <td>25.0</td>\n",
       "            <td>25.0</td>\n",
       "            <td>Austin</td>\n",
       "        </tr>\n",
       "        <tr>\n",
       "            <td>JA460432</td>\n",
       "            <td>BATTERY</td>\n",
       "            <td>SCHOOL, PUBLIC, GROUNDS</td>\n",
       "            <td>70.0</td>\n",
       "            <td>70.0</td>\n",
       "            <td>Ashburn</td>\n",
       "        </tr>\n",
       "        <tr>\n",
       "            <td>HS200939</td>\n",
       "            <td>CRIMINAL DAMAGE</td>\n",
       "            <td>SCHOOL, PUBLIC, GROUNDS</td>\n",
       "            <td>25.0</td>\n",
       "            <td>25.0</td>\n",
       "            <td>Austin</td>\n",
       "        </tr>\n",
       "        <tr>\n",
       "            <td>HK577020</td>\n",
       "            <td>NARCOTICS</td>\n",
       "            <td>SCHOOL, PUBLIC, GROUNDS</td>\n",
       "            <td>1.0</td>\n",
       "            <td>1.0</td>\n",
       "            <td>Rogers Park</td>\n",
       "        </tr>\n",
       "        <tr>\n",
       "            <td>HS305355</td>\n",
       "            <td>NARCOTICS</td>\n",
       "            <td>SCHOOL, PUBLIC, BUILDING</td>\n",
       "            <td>58.0</td>\n",
       "            <td>58.0</td>\n",
       "            <td>Brighton Park</td>\n",
       "        </tr>\n",
       "        <tr>\n",
       "            <td>HT315369</td>\n",
       "            <td>ASSAULT</td>\n",
       "            <td>SCHOOL, PUBLIC, GROUNDS</td>\n",
       "            <td>27.0</td>\n",
       "            <td>27.0</td>\n",
       "            <td>East Garfield Park</td>\n",
       "        </tr>\n",
       "        <tr>\n",
       "            <td>HR585012</td>\n",
       "            <td>CRIMINAL TRESPASS</td>\n",
       "            <td>SCHOOL, PUBLIC, GROUNDS</td>\n",
       "            <td>70.0</td>\n",
       "            <td>70.0</td>\n",
       "            <td>Ashburn</td>\n",
       "        </tr>\n",
       "    </tbody>\n",
       "</table>"
      ],
      "text/plain": [
       "[('HL353697', 'BATTERY', 'SCHOOL, PUBLIC, GROUNDS', 43.0, 43.0, 'South Shore'),\n",
       " ('HL725506', 'BATTERY', 'SCHOOL, PUBLIC, BUILDING', 4.0, 4.0, 'Lincoln Square'),\n",
       " ('HP716225', 'BATTERY', 'SCHOOL, PUBLIC, BUILDING', 35.0, 35.0, 'Douglas'),\n",
       " ('HH639427', 'BATTERY', 'SCHOOL, PUBLIC, BUILDING', 25.0, 25.0, 'Austin'),\n",
       " ('JA460432', 'BATTERY', 'SCHOOL, PUBLIC, GROUNDS', 70.0, 70.0, 'Ashburn'),\n",
       " ('HS200939', 'CRIMINAL DAMAGE', 'SCHOOL, PUBLIC, GROUNDS', 25.0, 25.0, 'Austin'),\n",
       " ('HK577020', 'NARCOTICS', 'SCHOOL, PUBLIC, GROUNDS', 1.0, 1.0, 'Rogers Park'),\n",
       " ('HS305355', 'NARCOTICS', 'SCHOOL, PUBLIC, BUILDING', 58.0, 58.0, 'Brighton Park'),\n",
       " ('HT315369', 'ASSAULT', 'SCHOOL, PUBLIC, GROUNDS', 27.0, 27.0, 'East Garfield Park'),\n",
       " ('HR585012', 'CRIMINAL TRESPASS', 'SCHOOL, PUBLIC, GROUNDS', 70.0, 70.0, 'Ashburn')]"
      ]
     },
     "execution_count": 5,
     "metadata": {},
     "output_type": "execute_result"
    }
   ],
   "source": [
    "%%sql\n",
    "SELECT \n",
    "    CHICAGO_CRIME_DATA.CASE_NUMBER,\n",
    "    CHICAGO_CRIME_DATA.PRIMARY_TYPE,\n",
    "    CHICAGO_CRIME_DATA.LOCATION_DESCRIPTION,\n",
    "    CHICAGO_CRIME_DATA.COMMUNITY_AREA_NUMBER,\n",
    "    CENSUS_DATA.COMMUNITY_AREA_NUMBER,\n",
    "    CENSUS_DATA.COMMUNITY_AREA_NAME\n",
    "FROM\n",
    "    CHICAGO_CRIME_DATA\n",
    "INNER JOIN\n",
    "    CENSUS_DATA\n",
    "    ON\n",
    "    CHICAGO_CRIME_DATA.COMMUNITY_AREA_NUMBER = CENSUS_DATA.COMMUNITY_AREA_NUMBER\n",
    "WHERE\n",
    "    CHICAGO_CRIME_DATA.LOCATION_DESCRIPTION LIKE '%SCHOOL%';\n",
    "    "
   ]
  },
  {
   "cell_type": "markdown",
   "metadata": {},
   "source": [
    "# Exercise 2: Creating a View"
   ]
  },
  {
   "cell_type": "markdown",
   "metadata": {},
   "source": [
    "*For privacy reasons, you have been asked to create a view that enables users to select just the school name and the icon fields from the CHICAGO_PUBLIC_SCHOOLS table. By providing a view, you can ensure that users cannot see the actual scores given to a school, just the icon associated with their score. You should define new names for the view columns to obscure the use of scores and icons in the original table.*"
   ]
  },
  {
   "cell_type": "markdown",
   "metadata": {},
   "source": [
    "1) Write and execute a SQL statement to create a view showing the columns listed in the following table, with new column names as shown in the second column.\n",
    "\n",
    "| Column name in CHICAGO_PUBLIC_SCHOOLS | Column name in view |\n",
    "| ------------------------------------- | ------------------- |\n",
    "| NAME_OF_SCHOOL                        | School_Name         |\n",
    "| Safety_Icon                           | Safety_Rating       |\n",
    "| Family_Involvement_Icon               | Family_Rating       |\n",
    "| Environment_Icon                      | Environment_Rating  |\n",
    "| Instruction_Icon                      | Instruction_Rating  |\n",
    "| Leaders_Icon                          | Leaders_Rating      |\n",
    "| Teachers_Icon                         | Teachers_Rating     |\n"
   ]
  },
  {
   "cell_type": "code",
   "execution_count": 6,
   "metadata": {},
   "outputs": [
    {
     "name": "stdout",
     "output_type": "stream",
     "text": [
      " * sqlite:///FinalDB.db\n",
      "Done.\n"
     ]
    },
    {
     "data": {
      "text/plain": [
       "[]"
      ]
     },
     "execution_count": 6,
     "metadata": {},
     "output_type": "execute_result"
    }
   ],
   "source": [
    "%%sql\n",
    "CREATE VIEW V_PUBLIC_SCHOOLS (\n",
    "    School_Name, \n",
    "    Safety_Rating, \n",
    "    Family_Rating, \n",
    "    Enviroment_Rating, \n",
    "    Instruction_Rating, \n",
    "    Leaders_Rating, \n",
    "    Teachers_Rating\n",
    "    ) \n",
    "AS SELECT \n",
    "    NAME_OF_SCHOOL, \n",
    "    Safety_Icon, \n",
    "    Family_Involvement_Icon, \n",
    "    Environment_Icon, \n",
    "    Instruction_Icon, \n",
    "    Leaders_Icon, \n",
    "    Teachers_Icon\n",
    "FROM CHICAGO_PUBLIC_SCHOOLS;"
   ]
  },
  {
   "cell_type": "markdown",
   "metadata": {},
   "source": [
    "2) Write and execute a SQL statement that returns all of the columns from the view."
   ]
  },
  {
   "cell_type": "code",
   "execution_count": 15,
   "metadata": {},
   "outputs": [
    {
     "name": "stdout",
     "output_type": "stream",
     "text": [
      " * sqlite:///FinalDB.db\n",
      "Done.\n"
     ]
    },
    {
     "data": {
      "text/html": [
       "<table>\n",
       "    <thead>\n",
       "        <tr>\n",
       "            <th>cid</th>\n",
       "            <th>name</th>\n",
       "            <th>type</th>\n",
       "            <th>notnull</th>\n",
       "            <th>dflt_value</th>\n",
       "            <th>pk</th>\n",
       "        </tr>\n",
       "    </thead>\n",
       "    <tbody>\n",
       "        <tr>\n",
       "            <td>0</td>\n",
       "            <td>School_Name</td>\n",
       "            <td>TEXT</td>\n",
       "            <td>0</td>\n",
       "            <td>None</td>\n",
       "            <td>0</td>\n",
       "        </tr>\n",
       "        <tr>\n",
       "            <td>1</td>\n",
       "            <td>Safety_Rating</td>\n",
       "            <td>TEXT</td>\n",
       "            <td>0</td>\n",
       "            <td>None</td>\n",
       "            <td>0</td>\n",
       "        </tr>\n",
       "        <tr>\n",
       "            <td>2</td>\n",
       "            <td>Family_Rating</td>\n",
       "            <td>TEXT</td>\n",
       "            <td>0</td>\n",
       "            <td>None</td>\n",
       "            <td>0</td>\n",
       "        </tr>\n",
       "        <tr>\n",
       "            <td>3</td>\n",
       "            <td>Enviroment_Rating</td>\n",
       "            <td>TEXT</td>\n",
       "            <td>0</td>\n",
       "            <td>None</td>\n",
       "            <td>0</td>\n",
       "        </tr>\n",
       "        <tr>\n",
       "            <td>4</td>\n",
       "            <td>Instruction_Rating</td>\n",
       "            <td>TEXT</td>\n",
       "            <td>0</td>\n",
       "            <td>None</td>\n",
       "            <td>0</td>\n",
       "        </tr>\n",
       "        <tr>\n",
       "            <td>5</td>\n",
       "            <td>Leaders_Rating</td>\n",
       "            <td>TEXT</td>\n",
       "            <td>0</td>\n",
       "            <td>None</td>\n",
       "            <td>0</td>\n",
       "        </tr>\n",
       "        <tr>\n",
       "            <td>6</td>\n",
       "            <td>Teachers_Rating</td>\n",
       "            <td>TEXT</td>\n",
       "            <td>0</td>\n",
       "            <td>None</td>\n",
       "            <td>0</td>\n",
       "        </tr>\n",
       "    </tbody>\n",
       "</table>"
      ],
      "text/plain": [
       "[(0, 'School_Name', 'TEXT', 0, None, 0),\n",
       " (1, 'Safety_Rating', 'TEXT', 0, None, 0),\n",
       " (2, 'Family_Rating', 'TEXT', 0, None, 0),\n",
       " (3, 'Enviroment_Rating', 'TEXT', 0, None, 0),\n",
       " (4, 'Instruction_Rating', 'TEXT', 0, None, 0),\n",
       " (5, 'Leaders_Rating', 'TEXT', 0, None, 0),\n",
       " (6, 'Teachers_Rating', 'TEXT', 0, None, 0)]"
      ]
     },
     "execution_count": 15,
     "metadata": {},
     "output_type": "execute_result"
    }
   ],
   "source": [
    "#Retrive the name of the columns of the view V_PUBLIC_SCHOOLS\n",
    "\n",
    "%sql PRAGMA table_info(V_PUBLIC_SCHOOLS);"
   ]
  },
  {
   "cell_type": "markdown",
   "metadata": {},
   "source": [
    "3) Write and execute a SQL statement that returns just the school name and leaders rating from the view."
   ]
  },
  {
   "cell_type": "code",
   "execution_count": 17,
   "metadata": {},
   "outputs": [
    {
     "name": "stdout",
     "output_type": "stream",
     "text": [
      " * sqlite:///FinalDB.db\n",
      "Done.\n"
     ]
    },
    {
     "data": {
      "text/html": [
       "<table>\n",
       "    <thead>\n",
       "        <tr>\n",
       "            <th>School_Name</th>\n",
       "            <th>Safety_Rating</th>\n",
       "            <th>Family_Rating</th>\n",
       "            <th>Enviroment_Rating</th>\n",
       "            <th>Instruction_Rating</th>\n",
       "            <th>Leaders_Rating</th>\n",
       "            <th>Teachers_Rating</th>\n",
       "        </tr>\n",
       "    </thead>\n",
       "    <tbody>\n",
       "        <tr>\n",
       "            <td>DeWitt Clinton Elementary School</td>\n",
       "            <td>Average</td>\n",
       "            <td>Average</td>\n",
       "            <td>Average</td>\n",
       "            <td>Average</td>\n",
       "            <td>Weak</td>\n",
       "            <td>Weak</td>\n",
       "        </tr>\n",
       "        <tr>\n",
       "            <td>Elaine O Goodlow Elementary Magnet School</td>\n",
       "            <td>Average</td>\n",
       "            <td>Average</td>\n",
       "            <td>Average</td>\n",
       "            <td>Average</td>\n",
       "            <td>Weak</td>\n",
       "            <td>Weak</td>\n",
       "        </tr>\n",
       "        <tr>\n",
       "            <td>Ferdinand Peck Elementary School</td>\n",
       "            <td>Average</td>\n",
       "            <td>Average</td>\n",
       "            <td>Average</td>\n",
       "            <td>Average</td>\n",
       "            <td>Weak</td>\n",
       "            <td>Weak</td>\n",
       "        </tr>\n",
       "        <tr>\n",
       "            <td>Lorenz Brentano Math &amp; Science Academy Elementary School</td>\n",
       "            <td>Average</td>\n",
       "            <td>Average</td>\n",
       "            <td>Average</td>\n",
       "            <td>Average</td>\n",
       "            <td>Weak</td>\n",
       "            <td>Weak</td>\n",
       "        </tr>\n",
       "        <tr>\n",
       "            <td>Pilsen Elementary Community Academy</td>\n",
       "            <td>Average</td>\n",
       "            <td>Average</td>\n",
       "            <td>Average</td>\n",
       "            <td>Average</td>\n",
       "            <td>Weak</td>\n",
       "            <td>Weak</td>\n",
       "        </tr>\n",
       "        <tr>\n",
       "            <td>Richard J Oglesby Elementary School</td>\n",
       "            <td>Average</td>\n",
       "            <td>Average</td>\n",
       "            <td>Average</td>\n",
       "            <td>Average</td>\n",
       "            <td>Weak</td>\n",
       "            <td>Weak</td>\n",
       "        </tr>\n",
       "        <tr>\n",
       "            <td>Federico Garcia Lorca Elementary School</td>\n",
       "            <td>Average</td>\n",
       "            <td>Average</td>\n",
       "            <td>Average</td>\n",
       "            <td>Average</td>\n",
       "            <td>Weak</td>\n",
       "            <td>Very Strong</td>\n",
       "        </tr>\n",
       "        <tr>\n",
       "            <td>John Calhoun North Elementary School</td>\n",
       "            <td>Average</td>\n",
       "            <td>Average</td>\n",
       "            <td>Average</td>\n",
       "            <td>Average</td>\n",
       "            <td>Weak</td>\n",
       "            <td>Very Strong</td>\n",
       "        </tr>\n",
       "        <tr>\n",
       "            <td>TEAM Englewood Community Academy High School</td>\n",
       "            <td>Average</td>\n",
       "            <td>Average</td>\n",
       "            <td>Average</td>\n",
       "            <td>Average</td>\n",
       "            <td>Weak</td>\n",
       "            <td>Strong</td>\n",
       "        </tr>\n",
       "        <tr>\n",
       "            <td>Turner-Drew Elementary Language Academy</td>\n",
       "            <td>Average</td>\n",
       "            <td>Average</td>\n",
       "            <td>Average</td>\n",
       "            <td>Average</td>\n",
       "            <td>Weak</td>\n",
       "            <td>Strong</td>\n",
       "        </tr>\n",
       "    </tbody>\n",
       "</table>"
      ],
      "text/plain": [
       "[('DeWitt Clinton Elementary School', 'Average', 'Average', 'Average', 'Average', 'Weak', 'Weak'),\n",
       " ('Elaine O Goodlow Elementary Magnet School', 'Average', 'Average', 'Average', 'Average', 'Weak', 'Weak'),\n",
       " ('Ferdinand Peck Elementary School', 'Average', 'Average', 'Average', 'Average', 'Weak', 'Weak'),\n",
       " ('Lorenz Brentano Math & Science Academy Elementary School', 'Average', 'Average', 'Average', 'Average', 'Weak', 'Weak'),\n",
       " ('Pilsen Elementary Community Academy', 'Average', 'Average', 'Average', 'Average', 'Weak', 'Weak'),\n",
       " ('Richard J Oglesby Elementary School', 'Average', 'Average', 'Average', 'Average', 'Weak', 'Weak'),\n",
       " ('Federico Garcia Lorca Elementary School', 'Average', 'Average', 'Average', 'Average', 'Weak', 'Very Strong'),\n",
       " ('John Calhoun North Elementary School', 'Average', 'Average', 'Average', 'Average', 'Weak', 'Very Strong'),\n",
       " ('TEAM Englewood Community Academy High School', 'Average', 'Average', 'Average', 'Average', 'Weak', 'Strong'),\n",
       " ('Turner-Drew Elementary Language Academy', 'Average', 'Average', 'Average', 'Average', 'Weak', 'Strong')]"
      ]
     },
     "execution_count": 17,
     "metadata": {},
     "output_type": "execute_result"
    }
   ],
   "source": [
    "%%sql \n",
    "SELECT * \n",
    "FROM V_PUBLIC_SCHOOLS \n",
    "ORDER BY \n",
    "    Safety_Rating, \n",
    "    Family_Rating, \n",
    "    Enviroment_Rating, \n",
    "    Instruction_Rating, \n",
    "    Leaders_Rating, \n",
    "    Teachers_Rating \n",
    "DESC LIMIT 10;"
   ]
  },
  {
   "cell_type": "markdown",
   "metadata": {},
   "source": [
    "# Exercise 3: Creating a Stored Procedure"
   ]
  },
  {
   "cell_type": "markdown",
   "metadata": {},
   "source": [
    "*The icon fields are calculated based on the value in the corresponding score field. You need to make sure that when a score field is updated, the icon field is updated too. To do this, you will write a stored procedure that receives the school id and a leaders score as input parameters, calculates the icon setting and updates the fields appropriately.*"
   ]
  },
  {
   "cell_type": "markdown",
   "metadata": {},
   "source": [
    "## Question 1\n",
    "\n",
    "Write the structure of a query to create or replace a stored procedure called UPDATE_LEADERS_SCORE that takes a in_School_ID parameter as an integer and a in_Leader_Score parameter as an integer. Don’t forget to use the #SET TERMINATOR statement to use the @ for the CREATE statement terminator.\n",
    "Take a screenshot showing the SQL query."
   ]
  },
  {
   "cell_type": "code",
   "execution_count": null,
   "metadata": {},
   "outputs": [],
   "source": [
    "%%sql\n",
    "--#SET TERMINATOR @\n",
    "CREATE PROCEDURE UPDATE_LEADERS_SCORE(IN in_School_ID INTEGER, IN in_Leader_Score INTEGER)\n",
    "@"
   ]
  },
  {
   "cell_type": "markdown",
   "metadata": {},
   "source": [
    "## Question 2\n",
    "\n",
    "Inside your stored procedure, write a SQL statement to update the Leaders_Score field in the CHICAGO_PUBLIC_SCHOOLS table for the school identified by in_School_ID to the value in the in_Leader_Score parameter.\n",
    "Take a screenshot showing the SQL query."
   ]
  },
  {
   "cell_type": "code",
   "execution_count": null,
   "metadata": {},
   "outputs": [],
   "source": [
    "%%sql\n",
    "--#SET TERMINATOR @\n",
    "CREATE PROCEDURE UPDATE_LEADERS_SCORE(IN in_School_ID INTEGER, IN in_Leader_Score INTEGER)\n",
    "LANGUAGE SQL\n",
    "MODIFIES SQL DATA\n",
    "BEGIN\n",
    "    UPDATE CHICAGO_PUBLIC_SCHOOLS\n",
    "    SET Leaders_Icon = in_Leader_Score\n",
    "    WHERE School_ID = in_School_ID;\n",
    "END\n",
    "@"
   ]
  },
  {
   "cell_type": "markdown",
   "metadata": {},
   "source": [
    "## Question 3\n",
    "\n",
    "Inside your stored procedure, write a SQL IF statement to update the Leaders_Icon field in the CHICAGO_PUBLIC_SCHOOLS table for the school identified by in_School_ID using the following information.\n",
    "\n",
    "| Score lower limit | Score upper limit | Icon        |\n",
    "| ----------------- | ----------------- | ----------- |\n",
    "| 80                | 99                | Very strong |\n",
    "| 60                | 79                | Strong      |\n",
    "| 40                | 59                | Average     |\n",
    "| 20                | 39                | Weak        |\n",
    "| 0                 | 19                | Very weak   |"
   ]
  },
  {
   "cell_type": "code",
   "execution_count": null,
   "metadata": {},
   "outputs": [],
   "source": [
    "%%sql\n",
    "--#SET TERMINATOR @\n",
    "CREATE PROCEDURE UPDATE_LEADERS_SCORE(IN in_School_ID INTEGER, IN in_Leader_Score INTEGER)\n",
    "LANGUAGE SQL\n",
    "MODIFIES SQL DATA\n",
    "BEGIN\n",
    "    UPDATE CHICAGO_PUBLIC_SCHOOLS\n",
    "    SET Leaders_Icon = in_Leader_Score\n",
    "    WHERE School_ID = in_School_ID;\n",
    "    \n",
    "    IF in_Leader_Score >= 80 AND <= 99 THEN\n",
    "        UPDATE CHICAGO_PUBLIC_SCHOOLS\n",
    "        SET Leaders_Icon = 'Very Strong';\n",
    "    ELSEIF in_Leader_Score >= 60 AND <= 79 THEN\n",
    "        UPDATE CHICAGO_PUBLIC_SCHOOLS\n",
    "        SET Leaders_Icon = 'Strong';\n",
    "    ELSEIF in_Leader_Score >= 40 AND <= 59 THEN\n",
    "        UPDATE CHICAGO_PUBLIC_SCHOOLS\n",
    "        SET Leaders_Icon = 'Average';\n",
    "    ELSEIF in_Leader_Score >= 20 AND <= 39 THEN\n",
    "        UPDATE CHICAGO_PUBLIC_SCHOOLS\n",
    "        SET Leaders_Icon = 'Weak';\n",
    "    ELSEIF in_Leader_Score >= 0 AND <= 19 THEN\n",
    "        UPDATE CHICAGO_PUBLIC_SCHOOLS\n",
    "        SET Leaders_Icon = 'Very Weak';\n",
    "    END IF;\n",
    "END\n",
    "@"
   ]
  },
  {
   "cell_type": "markdown",
   "metadata": {},
   "source": [
    "## Question 4\n",
    "* Run your code to create the stored procedure. Take a screenshot showing the SQL query and its results.\n",
    "\n",
    "* Write a query to call the stored procedure, passing a valid school ID and a leader score of 50, to check that the procedure works as expected."
   ]
  },
  {
   "cell_type": "markdown",
   "metadata": {},
   "source": [
    "# Exercise 4: Using Transactions"
   ]
  },
  {
   "cell_type": "markdown",
   "metadata": {},
   "source": [
    "*You realise that if someone calls your code with a score outside of the allowed range (0-99), then the score will be updated with the invalid data and the icon will remain at its previous value. There are various ways to avoid this problem, one of which is using a transaction.*"
   ]
  },
  {
   "cell_type": "markdown",
   "metadata": {},
   "source": [
    "## Question 1\n",
    "\n",
    "Update your stored procedure definition. Add a generic ELSE clause to the IF statement that rolls back the current work if the score did not fit any of the preceding categories. Take a screenshot showing the SQL query."
   ]
  },
  {
   "cell_type": "markdown",
   "metadata": {},
   "source": [
    "## Question 2\n",
    "Update your stored procedure definition again. Add a statement to commit the current unit of work at the end of the procedure. Take a screenshot showing the SQL query.\n",
    "\n",
    "* Run your code to replace the stored procedure.\n",
    "\n",
    "* Write and run one query to check that the updated stored procedure works as expected when you use a valid score of 38.\n",
    "\n",
    "* Write and run another query to check that the updated stored procedure works as expected when you use an invalid score of 101."
   ]
  }
 ],
 "metadata": {
  "kernelspec": {
   "display_name": "base",
   "language": "python",
   "name": "python3"
  },
  "language_info": {
   "codemirror_mode": {
    "name": "ipython",
    "version": 3
   },
   "file_extension": ".py",
   "mimetype": "text/x-python",
   "name": "python",
   "nbconvert_exporter": "python",
   "pygments_lexer": "ipython3",
   "version": "3.11.5"
  }
 },
 "nbformat": 4,
 "nbformat_minor": 2
}
